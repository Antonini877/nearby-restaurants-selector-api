{
 "cells": [
  {
   "cell_type": "code",
   "execution_count": 2,
   "metadata": {},
   "outputs": [],
   "source": [
    "import requests\n",
    "import os\n",
    "from dotenv import load_dotenv"
   ]
  },
  {
   "cell_type": "code",
   "execution_count": 3,
   "metadata": {},
   "outputs": [
    {
     "data": {
      "text/plain": [
       "True"
      ]
     },
     "execution_count": 3,
     "metadata": {},
     "output_type": "execute_result"
    }
   ],
   "source": [
    "load_dotenv()"
   ]
  },
  {
   "cell_type": "code",
   "execution_count": 5,
   "metadata": {},
   "outputs": [],
   "source": [
    "GEO_LOCATION_API_KEY = os.getenv('GEO_LOCATION_API_KEY')"
   ]
  },
  {
   "cell_type": "code",
   "execution_count": 34,
   "metadata": {},
   "outputs": [],
   "source": [
    "request_url = f'https://api.tomtom.com/search/2/poiSearch/restaurant.json?key={GEO_LOCATION_API_KEY}&limit=5&lat=-23.576604&lon=-46.668532&radius=1000'"
   ]
  },
  {
   "cell_type": "code",
   "execution_count": 35,
   "metadata": {},
   "outputs": [],
   "source": [
    "response = requests.get(request_url)"
   ]
  },
  {
   "cell_type": "code",
   "execution_count": 36,
   "metadata": {},
   "outputs": [
    {
     "data": {
      "text/plain": [
       "b'{\"summary\":{\"query\":\"restaurant\",\"queryType\":\"NON_NEAR\",\"queryTime\":31,\"numResults\":5,\"offset\":0,\"totalResults\":380,\"fuzzyLevel\":1,\"geoBias\":{\"lat\":-23.576604,\"lon\":-46.668532}},\"results\":[{\"type\":\"POI\",\"id\":\"076009026588247\",\"score\":2.57452631,\"dist\":67.05862458814353,\"info\":\"search:ta:076009026588247-BR\",\"poi\":{\"name\":\"E Sports Burguer\",\"categorySet\":[{\"id\":7315}],\"categories\":[\"restaurant\"],\"classifications\":[{\"code\":\"RESTAURANT\",\"names\":[{\"nameLocale\":\"en-US\",\"name\":\"restaurant\"}]}]},\"address\":{\"streetNumber\":\"602\",\"streetName\":\"Rua General Fonseca Teles\",\"municipalitySubdivision\":\"Jardim Paulista\",\"municipality\":\"S\\xc3\\xa3o Paulo\",\"countrySubdivision\":\"S\\xc3\\xa3o Paulo\",\"postalCode\":\"01433\",\"extendedPostalCode\":\"01433-020\",\"countryCode\":\"BR\",\"country\":\"Brasil\",\"countryCodeISO3\":\"BRA\",\"freeformAddress\":\"Rua General Fonseca Teles, 602, 01433-020, S\\xc3\\xa3o Paulo\",\"localName\":\"S\\xc3\\xa3o Paulo\"},\"position\":{\"lat\":-23.57711,\"lon\":-46.66889},\"viewport\":{\"topLeftPoint\":{\"lat\":-23.57621,\"lon\":-46.66987},\"btmRightPoint\":{\"lat\":-23.57801,\"lon\":-46.66791}},\"entryPoints\":[{\"type\":\"main\",\"position\":{\"lat\":-23.57719,\"lon\":-46.66898}}]},{\"type\":\"POI\",\"id\":\"076009020102359\",\"score\":2.5745146275,\"dist\":202.6679548797539,\"info\":\"search:ta:076009020102359-BR\",\"poi\":{\"name\":\"Mariol\\xc3\\xa3o Lanches\",\"categorySet\":[{\"id\":7315}],\"categories\":[\"restaurant\"],\"classifications\":[{\"code\":\"RESTAURANT\",\"names\":[{\"nameLocale\":\"en-US\",\"name\":\"restaurant\"}]}]},\"address\":{\"streetNumber\":\"4793\",\"streetName\":\"Avenida Nove de Julho\",\"municipalitySubdivision\":\"Jardim Paulista\",\"municipality\":\"S\\xc3\\xa3o Paulo\",\"countrySubdivision\":\"S\\xc3\\xa3o Paulo\",\"postalCode\":\"01407\",\"extendedPostalCode\":\"01407-100\",\"countryCode\":\"BR\",\"country\":\"Brasil\",\"countryCodeISO3\":\"BRA\",\"freeformAddress\":\"Avenida Nove de Julho, 4793, 01407-100, S\\xc3\\xa3o Paulo\",\"localName\":\"S\\xc3\\xa3o Paulo\"},\"position\":{\"lat\":-23.57665,\"lon\":-46.67052},\"viewport\":{\"topLeftPoint\":{\"lat\":-23.57575,\"lon\":-46.6715},\"btmRightPoint\":{\"lat\":-23.57755,\"lon\":-46.66954}},\"entryPoints\":[{\"type\":\"main\",\"position\":{\"lat\":-23.57654,\"lon\":-46.67061}}]},{\"type\":\"POI\",\"id\":\"076009025432976\",\"score\":2.5745043755,\"dist\":269.4209883212733,\"info\":\"search:ta:076009025432976-BR\",\"poi\":{\"name\":\"Mj Lanches\",\"categorySet\":[{\"id\":7315069}],\"categories\":[\"hamburgers\",\"restaurant\"],\"classifications\":[{\"code\":\"RESTAURANT\",\"names\":[{\"nameLocale\":\"en-US\",\"name\":\"restaurant\"},{\"nameLocale\":\"en-US\",\"name\":\"hamburgers\"}]}]},\"address\":{\"streetName\":\"Rua Maestro Elias Lobo\",\"municipalitySubdivision\":\"Jardim Paulista\",\"municipality\":\"S\\xc3\\xa3o Paulo\",\"countrySubdivision\":\"S\\xc3\\xa3o Paulo\",\"postalCode\":\"01433\",\"extendedPostalCode\":\"01433-000\",\"countryCode\":\"BR\",\"country\":\"Brasil\",\"countryCodeISO3\":\"BRA\",\"freeformAddress\":\"Rua Maestro Elias Lobo, 01433-000, S\\xc3\\xa3o Paulo\",\"localName\":\"S\\xc3\\xa3o Paulo\"},\"position\":{\"lat\":-23.57475,\"lon\":-46.66683},\"viewport\":{\"topLeftPoint\":{\"lat\":-23.57385,\"lon\":-46.66781},\"btmRightPoint\":{\"lat\":-23.57565,\"lon\":-46.66585}},\"entryPoints\":[{\"type\":\"main\",\"position\":{\"lat\":-23.57465,\"lon\":-46.66653}}]},{\"type\":\"POI\",\"id\":\"076009019408737\",\"score\":2.5745017529,\"dist\":283.7574896824721,\"info\":\"search:ta:076009019408737-BR\",\"poi\":{\"name\":\"Karmines Aliment\\xc3\\xadcios\",\"categorySet\":[{\"id\":7315}],\"categories\":[\"restaurant\"],\"classifications\":[{\"code\":\"RESTAURANT\",\"names\":[{\"nameLocale\":\"en-US\",\"name\":\"restaurant\"}]}]},\"address\":{\"streetNumber\":\"116\",\"streetName\":\"Rua Susano\",\"municipalitySubdivision\":\"Jardim Paulista\",\"municipality\":\"S\\xc3\\xa3o Paulo\",\"countrySubdivision\":\"S\\xc3\\xa3o Paulo\",\"postalCode\":\"01435\",\"extendedPostalCode\":\"01435-030\",\"countryCode\":\"BR\",\"country\":\"Brasil\",\"countryCodeISO3\":\"BRA\",\"freeformAddress\":\"Rua Susano, 116, 01435-030, S\\xc3\\xa3o Paulo\",\"localName\":\"S\\xc3\\xa3o Paulo\"},\"position\":{\"lat\":-23.5784,\"lon\":-46.67051},\"viewport\":{\"topLeftPoint\":{\"lat\":-23.5775,\"lon\":-46.67149},\"btmRightPoint\":{\"lat\":-23.5793,\"lon\":-46.66953}},\"entryPoints\":[{\"type\":\"main\",\"position\":{\"lat\":-23.57854,\"lon\":-46.67039}}]},{\"type\":\"POI\",\"id\":\"076009020425623\",\"score\":2.574498415,\"dist\":301.4689719642225,\"info\":\"search:ta:076009020425623-BR\",\"poi\":{\"name\":\"Cafelito\",\"categorySet\":[{\"id\":7315}],\"categories\":[\"restaurant\"],\"classifications\":[{\"code\":\"RESTAURANT\",\"names\":[{\"nameLocale\":\"en-US\",\"name\":\"restaurant\"}]}]},\"address\":{\"streetNumber\":\"808\",\"streetName\":\"Rua Groel\\xc3\\xa2ndia\",\"municipalitySubdivision\":\"Jardim Paulista\",\"municipality\":\"S\\xc3\\xa3o Paulo\",\"countrySubdivision\":\"S\\xc3\\xa3o Paulo\",\"postalCode\":\"01434\",\"extendedPostalCode\":\"01434-000\",\"countryCode\":\"BR\",\"country\":\"Brasil\",\"countryCodeISO3\":\"BRA\",\"freeformAddress\":\"Rua Groel\\xc3\\xa2ndia, 808, 01434-000, S\\xc3\\xa3o Paulo\",\"localName\":\"S\\xc3\\xa3o Paulo\"},\"position\":{\"lat\":-23.57594,\"lon\":-46.6714},\"viewport\":{\"topLeftPoint\":{\"lat\":-23.57504,\"lon\":-46.67238},\"btmRightPoint\":{\"lat\":-23.57684,\"lon\":-46.67042}},\"entryPoints\":[{\"type\":\"main\",\"position\":{\"lat\":-23.57599,\"lon\":-46.67148}}]}]}'"
      ]
     },
     "execution_count": 36,
     "metadata": {},
     "output_type": "execute_result"
    }
   ],
   "source": [
    "response.content"
   ]
  },
  {
   "cell_type": "code",
   "execution_count": null,
   "metadata": {},
   "outputs": [],
   "source": []
  }
 ],
 "metadata": {
  "kernelspec": {
   "display_name": "Python 3.10.0 64-bit",
   "language": "python",
   "name": "python3"
  },
  "language_info": {
   "codemirror_mode": {
    "name": "ipython",
    "version": 3
   },
   "file_extension": ".py",
   "mimetype": "text/x-python",
   "name": "python",
   "nbconvert_exporter": "python",
   "pygments_lexer": "ipython3",
   "version": "3.10.0"
  },
  "orig_nbformat": 4,
  "vscode": {
   "interpreter": {
    "hash": "1246ead2463b8589d9592e625804544b3a71cfa7d5ca30e602e152b16aad6d03"
   }
  }
 },
 "nbformat": 4,
 "nbformat_minor": 2
}
