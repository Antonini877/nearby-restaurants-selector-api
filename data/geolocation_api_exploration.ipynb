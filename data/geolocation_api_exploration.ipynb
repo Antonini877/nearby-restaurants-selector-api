{
 "cells": [
  {
   "cell_type": "code",
   "execution_count": 1,
   "metadata": {},
   "outputs": [],
   "source": [
    "import requests\n",
    "import os\n",
    "from dotenv import load_dotenv\n",
    "import json\n",
    "import pandas as pd\n",
    "import pymysql\n",
    "import numpy as np\n",
    "from tqdm import tqdm"
   ]
  },
  {
   "cell_type": "code",
   "execution_count": 2,
   "metadata": {},
   "outputs": [
    {
     "data": {
      "text/plain": [
       "True"
      ]
     },
     "execution_count": 2,
     "metadata": {},
     "output_type": "execute_result"
    }
   ],
   "source": [
    "load_dotenv()"
   ]
  },
  {
   "cell_type": "code",
   "execution_count": 3,
   "metadata": {},
   "outputs": [],
   "source": [
    "GEO_LOCATION_API_KEY = os.getenv('GEOLOCATION_API_KEY')"
   ]
  },
  {
   "cell_type": "code",
   "execution_count": 4,
   "metadata": {},
   "outputs": [],
   "source": [
    "request_url = f'https://api.tomtom.com/search/2/poiSearch/restaurant.json?key={GEO_LOCATION_API_KEY}&limit=1000&lat=-23.576604&lon=-46.668532&radius=100000000'"
   ]
  },
  {
   "cell_type": "code",
   "execution_count": 5,
   "metadata": {},
   "outputs": [],
   "source": [
    "def request_given_lat_lon(lat, lon):\n",
    "    url = f'https://api.tomtom.com/search/2/poiSearch/restaurant.json?key={GEO_LOCATION_API_KEY}&limit=100&lat={lat}&lon={lon}&radius=1000'\n",
    "    response = requests.get(request_url)\n",
    "    decoded_response = json.loads(response.content)\n",
    "    return decoded_response['results']"
   ]
  },
  {
   "cell_type": "code",
   "execution_count": 6,
   "metadata": {},
   "outputs": [],
   "source": [
    "restaurant_list = []"
   ]
  },
  {
   "cell_type": "code",
   "execution_count": 7,
   "metadata": {},
   "outputs": [],
   "source": [
    "lat, lon = -23.697907, -46.828054\n",
    "final_lat, final_lon = -23.506020, -46.419272\n",
    "\n",
    "lat_range = np.arange(lat, final_lat, 0.01)\n",
    "lon_range = np.arange(lon, final_lon, 0.01)\n"
   ]
  },
  {
   "cell_type": "code",
   "execution_count": 8,
   "metadata": {},
   "outputs": [
    {
     "data": {
      "text/plain": [
       "20"
      ]
     },
     "execution_count": 8,
     "metadata": {},
     "output_type": "execute_result"
    }
   ],
   "source": [
    "lat_range.shape[0]"
   ]
  },
  {
   "cell_type": "code",
   "execution_count": 9,
   "metadata": {},
   "outputs": [
    {
     "data": {
      "text/plain": [
       "41"
      ]
     },
     "execution_count": 9,
     "metadata": {},
     "output_type": "execute_result"
    }
   ],
   "source": [
    "lon_range.shape[0]"
   ]
  },
  {
   "cell_type": "code",
   "execution_count": 10,
   "metadata": {},
   "outputs": [
    {
     "name": "stderr",
     "output_type": "stream",
     "text": [
      " 30%|███       | 6/20 [02:03<04:44, 20.29s/it]"
     ]
    }
   ],
   "source": [
    "\n",
    "for la in tqdm(range(len(lat_range))):\n",
    "    for lo in lon_range:\n",
    "        restaurant_list.extend(request_given_lat_lon(la, lo))"
   ]
  },
  {
   "cell_type": "code",
   "execution_count": null,
   "metadata": {},
   "outputs": [],
   "source": [
    "restaurant_info = {\n",
    "    'name' : [],\n",
    "    'lat' : [],\n",
    "    'lon' : [] ,\n",
    "    'street_name' : [],\n",
    "    'neighborhood': []\n",
    "}\n",
    "for restaurant in restaurant_list:\n",
    "    if 'name' in restaurant['poi'] and 'lat' in restaurant['position'] and\\\n",
    "         'lon' in restaurant['position'] and 'streetName' in restaurant['address'] and\\\n",
    "         'municipalitySubdivision' in restaurant['address']:\n",
    "        restaurant_info['name'].append(restaurant['poi']['name'])\n",
    "        restaurant_info['lat'].append(restaurant['position']['lat'])\n",
    "        restaurant_info['lon'].append(restaurant['position']['lon'])\n",
    "        restaurant_info['street_name'].append(restaurant['address']['streetName'])\n",
    "        restaurant_info['neighborhood'].append(restaurant['address']['municipalitySubdivision'])\n",
    "    "
   ]
  },
  {
   "cell_type": "code",
   "execution_count": null,
   "metadata": {},
   "outputs": [],
   "source": [
    "df = pd.DataFrame(restaurant_info)"
   ]
  },
  {
   "cell_type": "code",
   "execution_count": null,
   "metadata": {},
   "outputs": [
    {
     "data": {
      "text/plain": [
       "(53538, 5)"
      ]
     },
     "execution_count": 144,
     "metadata": {},
     "output_type": "execute_result"
    }
   ],
   "source": [
    "df.shape"
   ]
  },
  {
   "cell_type": "code",
   "execution_count": null,
   "metadata": {},
   "outputs": [
    {
     "data": {
      "text/html": [
       "<div>\n",
       "<style scoped>\n",
       "    .dataframe tbody tr th:only-of-type {\n",
       "        vertical-align: middle;\n",
       "    }\n",
       "\n",
       "    .dataframe tbody tr th {\n",
       "        vertical-align: top;\n",
       "    }\n",
       "\n",
       "    .dataframe thead th {\n",
       "        text-align: right;\n",
       "    }\n",
       "</style>\n",
       "<table border=\"1\" class=\"dataframe\">\n",
       "  <thead>\n",
       "    <tr style=\"text-align: right;\">\n",
       "      <th></th>\n",
       "      <th>name</th>\n",
       "      <th>lat</th>\n",
       "      <th>lon</th>\n",
       "      <th>street_name</th>\n",
       "      <th>neighborhood</th>\n",
       "    </tr>\n",
       "  </thead>\n",
       "  <tbody>\n",
       "    <tr>\n",
       "      <th>0</th>\n",
       "      <td>E Sports Burguer</td>\n",
       "      <td>-23.57711</td>\n",
       "      <td>-46.66889</td>\n",
       "      <td>Rua General Fonseca Teles</td>\n",
       "      <td>Jardim Paulista</td>\n",
       "    </tr>\n",
       "    <tr>\n",
       "      <th>1</th>\n",
       "      <td>Mariolão Lanches</td>\n",
       "      <td>-23.57665</td>\n",
       "      <td>-46.67052</td>\n",
       "      <td>Avenida Nove de Julho</td>\n",
       "      <td>Jardim Paulista</td>\n",
       "    </tr>\n",
       "    <tr>\n",
       "      <th>2</th>\n",
       "      <td>Mj Lanches</td>\n",
       "      <td>-23.57475</td>\n",
       "      <td>-46.66683</td>\n",
       "      <td>Rua Maestro Elias Lobo</td>\n",
       "      <td>Jardim Paulista</td>\n",
       "    </tr>\n",
       "    <tr>\n",
       "      <th>3</th>\n",
       "      <td>Karmines Alimentícios</td>\n",
       "      <td>-23.57840</td>\n",
       "      <td>-46.67051</td>\n",
       "      <td>Rua Susano</td>\n",
       "      <td>Jardim Paulista</td>\n",
       "    </tr>\n",
       "    <tr>\n",
       "      <th>4</th>\n",
       "      <td>Cafelito</td>\n",
       "      <td>-23.57594</td>\n",
       "      <td>-46.67140</td>\n",
       "      <td>Rua Groelândia</td>\n",
       "      <td>Jardim Paulista</td>\n",
       "    </tr>\n",
       "  </tbody>\n",
       "</table>\n",
       "</div>"
      ],
      "text/plain": [
       "                    name       lat       lon                street_name  \\\n",
       "0       E Sports Burguer -23.57711 -46.66889  Rua General Fonseca Teles   \n",
       "1       Mariolão Lanches -23.57665 -46.67052      Avenida Nove de Julho   \n",
       "2             Mj Lanches -23.57475 -46.66683     Rua Maestro Elias Lobo   \n",
       "3  Karmines Alimentícios -23.57840 -46.67051                 Rua Susano   \n",
       "4               Cafelito -23.57594 -46.67140             Rua Groelândia   \n",
       "\n",
       "      neighborhood  \n",
       "0  Jardim Paulista  \n",
       "1  Jardim Paulista  \n",
       "2  Jardim Paulista  \n",
       "3  Jardim Paulista  \n",
       "4  Jardim Paulista  "
      ]
     },
     "execution_count": 145,
     "metadata": {},
     "output_type": "execute_result"
    }
   ],
   "source": [
    "df.head()"
   ]
  },
  {
   "cell_type": "code",
   "execution_count": null,
   "metadata": {},
   "outputs": [],
   "source": [
    "QUERY_BEGINNING = 'INSERT INTO restaurants VALUES '"
   ]
  },
  {
   "cell_type": "code",
   "execution_count": null,
   "metadata": {},
   "outputs": [],
   "source": [
    "for index, row in df.iterrows():\n",
    "    QUERY_BEGINNING += f'''(NULL, \"{row['name']}\", {row['lat']}, {row['lon']}, \"{row['street_name']}\", \"{row['neighborhood']}\"), \\n'''\n",
    "\n",
    "QUERY_BEGINNING = QUERY_BEGINNING[:-3] + ';'"
   ]
  },
  {
   "cell_type": "code",
   "execution_count": null,
   "metadata": {},
   "outputs": [
    {
     "name": "stdout",
     "output_type": "stream",
     "text": [
      "INSERT INTO restaurants VALUES (NULL, \"E Sports Burguer\", -23.57711, -46.66889, \"Rua General Fonseca Teles\", \"Jardim Paulista\"), \n",
      "(NULL, \"Mariolão Lanches\", -23.57665, -46.67052, \"Avenida Nove de Julho\", \"Jardim Paulista\"), \n",
      "(NULL, \"Mj Lanches\", -23.57475, -46.66683, \"Rua Maestro Elias Lobo\", \"Jardim Paulista\"), \n",
      "(NULL, \"Karmines Alimentícios\", -23.5784, -46.67051, \"Rua Susano\", \"Jardim Paulista\"), \n",
      "(NULL, \"Cafelito\", -23.57594, -46.6714, \"Rua Groelândia\", \"Jardim Paulista\"), \n",
      "(NULL, \"Bar e Empório Pires\", -23.57936, -46.6681, \"Rua Primavera\", \"Jardim Paulista\"), \n",
      "(NULL, \"Lanchonete e Restaurante Castelo\", -23.57844, -46.67081, \"Avenida São Gabriel\", \"Jardim Paulista\"), \n",
      "(NULL, \"Tutti Lanches\", -23.57721, -46.67174, \"Avenida Nove de Julho\", \"Itaim Bibi\"), \n",
      "(NULL, \"Granito Lanches\", -23.57827, -46.67127, \"Avenida São Gabriel\", \"Itaim Bibi\"), \n",
      "(NULL, \"Olaria Acessórios de Moda\", -23.57828, -46.67132, \"Avenida São Gabriel\", \"Itaim Bibi\"), \n",
      "(NULL, \"DMPB Comércio de Alimentos\", -23.57828, -46.67132, \"Avenida São Gabriel\", \"Itaim Bibi\"), \n",
      "(NULL, \"Cinco Quatro Cinco Delicatessen\", -23.57828, -46.67132, \"Avenida São Gabriel\", \"Itaim Bibi\"), \n",
      "(NULL, \"Oria Foods Alimentos\", -23.57765, -46.67174, \"Rua Romilda Margarita Gabriel\", \"Itaim Bibi\"), \n",
      "(NULL, \"Clube do Temaki\", -23.57856, -46.67121, \"Avenida São Gabriel\", \"Itaim Bibi\"), \n",
      "(NULL, \"Gira Sol\", -23.57844, -46.67133, \"Avenida São Gabriel\", \"Itaim Bibi\"), \n",
      "(NULL, \"Burguer de Garagem\", -23.5786, -46.67121, \"Avenida São Gabriel\", \"Itaim Bibi\"), \n",
      "(NULL, \"Buffet Silva e Silva\", -23.5786, -46.67121, \"Avenida São Gabriel\", \"Itaim Bibi\"), \n",
      "(NULL, \"C Q Sabe\", -23.57854, -46.67128, \"Avenida São Gabriel\", \"Itaim Bibi\"), \n",
      "(NULL, \"Mignon Chárika\", -23.57868, -46.67119, \"Avenida São Gabriel\", \"Itaim Bibi\"), \n",
      "(NULL, \"Dalmo Bárbaro\", -23.57954, -46.67029, \"Rua Gironda\", \"Jardim Paulista\"), \n",
      "(NULL, \"Cantinho da Debis\", -23.5794, -46.67058, \"Avenida São Gabriel\", \"Jardim Paulista\"), \n",
      "(NULL, \"Red's Lanches\", -23.58, -46.67, \"Rua Tabapuã\", \"Itaim Bibi\"), \n",
      "(NULL, \"Rei do Mate\", -23.58, -46.67, \"Rua Tabapuã\", \"Itaim Bibi\"), \n",
      "(NULL, \"Jorge Restaurante\", -23.58, -46.67, \"Rua Pedroso Alvarenga\", \"Jardim Paulista\"), \n",
      "(NULL, \"Alimentari\", -23.58, -46.67, \"Rua Pedroso Alvarenga\", \"Jardim Paulista\"), \n",
      "(NULL, \"La Pasta Gialla\", -23.58, -46.67, \"Rua Pedroso Alvarenga\", \"Jardim Paulista\"), \n",
      "(NULL, \"Nood\", -23.58, -46.67, \"Rua Pedroso Alvarenga\", \"Jardim Paulista\"), \n",
      "(NULL, \"Pizzaria A Esperança\", -23.58, -46.67, \"Rua Pedroso Alvarenga\", \"Jardim Paulista\"), \n",
      "(NULL, \"Pizza Hut\", -23.58, -46.67, \"Rua Pedroso Alvarenga\", \"Jardim Paulista\"), \n",
      "(NULL, \"Dolce Villa\", -23.58, -46.67, \"Rua Pedroso Alvarenga\", \"Jardim Paulista\"), \n",
      "(NULL, \"Provenza\", -23.58, -46.67, \"Rua Pedroso Alvarenga\", \"Jardim Paulista\"), \n",
      "(NULL, \"Empada Brasil\", -23.58, -46.67, \"Rua Tabapuã\", \"Itaim Bibi\");\n"
     ]
    }
   ],
   "source": [
    "print(QUERY_BEGINNING)"
   ]
  },
  {
   "cell_type": "code",
   "execution_count": null,
   "metadata": {},
   "outputs": [],
   "source": [
    "db_host = os.getenv('HOSTNAME')\n",
    "db_user = os.getenv('HOST')\n",
    "db_password = os.getenv('PASSWORD')\n",
    "db_name = os.getenv('DB_NAME')"
   ]
  },
  {
   "cell_type": "code",
   "execution_count": null,
   "metadata": {},
   "outputs": [],
   "source": [
    "\n",
    "connection = pymysql.connect(\n",
    "    host=db_host,\n",
    "    user=db_user,\n",
    "    password=db_password,\n",
    "    db=db_name\n",
    ")"
   ]
  },
  {
   "cell_type": "code",
   "execution_count": null,
   "metadata": {},
   "outputs": [],
   "source": [
    "connection.ping()"
   ]
  },
  {
   "cell_type": "code",
   "execution_count": null,
   "metadata": {},
   "outputs": [],
   "source": [
    "cursor = pymysql.cursors.Cursor(connection)"
   ]
  },
  {
   "cell_type": "code",
   "execution_count": null,
   "metadata": {},
   "outputs": [],
   "source": [
    "cursor.execute('TRUNCATE TABLE restaurants')"
   ]
  },
  {
   "cell_type": "code",
   "execution_count": null,
   "metadata": {},
   "outputs": [
    {
     "data": {
      "text/plain": [
       "32"
      ]
     },
     "execution_count": 111,
     "metadata": {},
     "output_type": "execute_result"
    }
   ],
   "source": [
    "cursor.execute(QUERY_BEGINNING)"
   ]
  },
  {
   "cell_type": "code",
   "execution_count": null,
   "metadata": {},
   "outputs": [],
   "source": []
  }
 ],
 "metadata": {
  "kernelspec": {
   "display_name": "Python 3.10.0 64-bit",
   "language": "python",
   "name": "python3"
  },
  "language_info": {
   "codemirror_mode": {
    "name": "ipython",
    "version": 3
   },
   "file_extension": ".py",
   "mimetype": "text/x-python",
   "name": "python",
   "nbconvert_exporter": "python",
   "pygments_lexer": "ipython3",
   "version": "3.10.0"
  },
  "orig_nbformat": 4,
  "vscode": {
   "interpreter": {
    "hash": "1246ead2463b8589d9592e625804544b3a71cfa7d5ca30e602e152b16aad6d03"
   }
  }
 },
 "nbformat": 4,
 "nbformat_minor": 2
}
